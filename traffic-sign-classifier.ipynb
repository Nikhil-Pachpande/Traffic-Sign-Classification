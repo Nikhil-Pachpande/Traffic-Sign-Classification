{
 "cells": [
  {
   "cell_type": "code",
   "execution_count": 25,
   "id": "df33ab25",
   "metadata": {},
   "outputs": [],
   "source": [
    "# Import the necessary libraries and packages\n",
    "import numpy as np\n",
    "import pandas as pd\n",
    "import matplotlib.pyplot as plt\n",
    "import tensorflow as tf\n",
    "import keras\n",
    "from PIL import Image\n",
    "import os\n",
    "from sklearn.model_selection import train_test_split\n",
    "from tensorflow.keras.utils import to_categorical\n",
    "from keras.models import Sequential\n",
    "from keras.layers import Conv2D, MaxPool2D, Dense, Flatten, Dropout"
   ]
  },
  {
   "cell_type": "code",
   "execution_count": 26,
   "id": "f9e33eda",
   "metadata": {},
   "outputs": [],
   "source": [
    "# Storing Images and their labels into lists\n",
    "data = []\n",
    "labels = []\n",
    "classes = 43\n",
    "dir = os.getcwd()\n",
    "\n",
    "for i in range(classes):\n",
    "    path = os.path.join(dir, 'train', str(i))\n",
    "    images = os.listdir(path)\n",
    "    \n",
    "    for a in images:\n",
    "        try:\n",
    "            image = Image.open(path + '\\\\' + a)\n",
    "            image = image.resize((30,30))\n",
    "            image = np.array(image)\n",
    "            data.append(image)\n",
    "            labels.append(i)\n",
    "        except:\n",
    "            print(\"Error Loading Image!!\")\n",
    "\n",
    "# convert the list data to numpy arrays to feed the model\n",
    "data = np.array(data)\n",
    "labels = np.array(labels)"
   ]
  },
  {
   "cell_type": "code",
   "execution_count": 27,
   "id": "4933a8d5",
   "metadata": {},
   "outputs": [
    {
     "name": "stdout",
     "output_type": "stream",
     "text": [
      "(39209, 30, 30, 3) (39209,)\n",
      "(31367, 30, 30, 3) (7842, 30, 30, 3) (31367,) (7842,)\n"
     ]
    }
   ],
   "source": [
    "# Splitting the data into Train & Test Sets\n",
    "print(data.shape, labels.shape)\n",
    "X_train, X_test, y_train, y_test = train_test_split(data, labels, test_size=0.2, random_state=42)\n",
    "\n",
    "print(X_train.shape, X_test.shape, y_train.shape, y_test.shape)\n",
    "\n",
    "y_train = to_categorical(y_train, 43)\n",
    "y_test = to_categorical(y_test, 43)"
   ]
  },
  {
   "cell_type": "code",
   "execution_count": 28,
   "id": "25737f21",
   "metadata": {},
   "outputs": [],
   "source": [
    "# Building a CNN Model to classify the images into their respective categories\n",
    "\n",
    "model = Sequential()\n",
    "model.add(Conv2D(filters=32, kernel_size=(5,5), activation='relu', input_shape=X_train.shape[1:]))\n",
    "model.add(Conv2D(filters=32, kernel_size=(5,5), activation='relu'))\n",
    "model.add(MaxPool2D(pool_size=(2,2)))\n",
    "model.add(Dropout(rate=0.25))\n",
    "model.add(Conv2D(filters=64, kernel_size=(3,3), activation='relu'))\n",
    "model.add(Conv2D(filters=64, kernel_size=(3,3), activation='relu'))\n",
    "model.add(MaxPool2D(pool_size=(2,2)))\n",
    "model.add(Dropout(rate=0.25))\n",
    "model.add(Flatten())\n",
    "model.add(Dense(256, activation='relu'))\n",
    "model.add(Dropout(rate=0.5))\n",
    "model.add(Dense(43, activation='softmax'))\n",
    "\n",
    "# Compile the model\n",
    "model.compile(loss='categorical_crossentropy', optimizer='adam', metrics=['accuracy'])"
   ]
  },
  {
   "cell_type": "code",
   "execution_count": 29,
   "id": "0be46381",
   "metadata": {},
   "outputs": [
    {
     "name": "stdout",
     "output_type": "stream",
     "text": [
      "Epoch 1/15\n",
      "491/491 [==============================] - 59s 119ms/step - loss: 1.8132 - accuracy: 0.5519 - val_loss: 0.3378 - val_accuracy: 0.9193\n",
      "Epoch 2/15\n",
      "491/491 [==============================] - 60s 123ms/step - loss: 0.4594 - accuracy: 0.8731 - val_loss: 0.1414 - val_accuracy: 0.9667\n",
      "Epoch 3/15\n",
      "491/491 [==============================] - 64s 130ms/step - loss: 0.2767 - accuracy: 0.9235 - val_loss: 0.0805 - val_accuracy: 0.9790\n",
      "Epoch 4/15\n",
      "491/491 [==============================] - 63s 128ms/step - loss: 0.2207 - accuracy: 0.9401 - val_loss: 0.0588 - val_accuracy: 0.9861\n",
      "Epoch 5/15\n",
      "491/491 [==============================] - 67s 136ms/step - loss: 0.1827 - accuracy: 0.9506 - val_loss: 0.0565 - val_accuracy: 0.9857\n",
      "Epoch 6/15\n",
      "491/491 [==============================] - 64s 131ms/step - loss: 0.1539 - accuracy: 0.9571 - val_loss: 0.0502 - val_accuracy: 0.9892\n",
      "Epoch 7/15\n",
      "491/491 [==============================] - 64s 130ms/step - loss: 0.1404 - accuracy: 0.9629 - val_loss: 0.0476 - val_accuracy: 0.9893\n",
      "Epoch 8/15\n",
      "491/491 [==============================] - 64s 130ms/step - loss: 0.1279 - accuracy: 0.9657 - val_loss: 0.0391 - val_accuracy: 0.9899\n",
      "Epoch 9/15\n",
      "491/491 [==============================] - 64s 129ms/step - loss: 0.1285 - accuracy: 0.9672 - val_loss: 0.0379 - val_accuracy: 0.9908\n",
      "Epoch 10/15\n",
      "491/491 [==============================] - 63s 128ms/step - loss: 0.1288 - accuracy: 0.9663 - val_loss: 0.0537 - val_accuracy: 0.9872\n",
      "Epoch 11/15\n",
      "491/491 [==============================] - 63s 128ms/step - loss: 0.1269 - accuracy: 0.9684 - val_loss: 0.0449 - val_accuracy: 0.9897\n",
      "Epoch 12/15\n",
      "491/491 [==============================] - 64s 131ms/step - loss: 0.1109 - accuracy: 0.9713 - val_loss: 0.0321 - val_accuracy: 0.9920\n",
      "Epoch 13/15\n",
      "491/491 [==============================] - 64s 131ms/step - loss: 0.0959 - accuracy: 0.9759 - val_loss: 0.0388 - val_accuracy: 0.9909\n",
      "Epoch 14/15\n",
      "491/491 [==============================] - 63s 128ms/step - loss: 0.1249 - accuracy: 0.9689 - val_loss: 0.0301 - val_accuracy: 0.9917\n",
      "Epoch 15/15\n",
      "491/491 [==============================] - 64s 130ms/step - loss: 0.1209 - accuracy: 0.9700 - val_loss: 0.0497 - val_accuracy: 0.9890\n"
     ]
    }
   ],
   "source": [
    "# Training the model\n",
    "epochs = 15\n",
    "history = model.fit(X_train, y_train, batch_size=64, epochs=epochs, validation_data=(X_test, y_test))"
   ]
  },
  {
   "cell_type": "code",
   "execution_count": 30,
   "id": "725b4fc4",
   "metadata": {},
   "outputs": [
    {
     "data": {
      "text/plain": [
       "<matplotlib.legend.Legend at 0x1acc6e3e438>"
      ]
     },
     "execution_count": 30,
     "metadata": {},
     "output_type": "execute_result"
    },
    {
     "data": {
      "image/png": "[encoded data removed]",
      "text/plain": [
       "<Figure size 432x288 with 1 Axes>"
      ]
     },
     "metadata": {
      "needs_background": "light"
     },
     "output_type": "display_data"
    },
    {
     "data": {
      "image/png": "[encoded data removed]",
      "text/plain": [
       "<Figure size 432x288 with 1 Axes>"
      ]
     },
     "metadata": {
      "needs_background": "light"
     },
     "output_type": "display_data"
    }
   ],
   "source": [
    "# Visualizing the Training results - Accuracy & Loss\n",
    "plt.figure(0)\n",
    "plt.plot(history.history['accuracy'], label='training accuracy')\n",
    "plt.plot(history.history['val_accuracy'], label='val accuracy')\n",
    "plt.title('Accuracy')\n",
    "plt.xlabel('epochs')\n",
    "plt.ylabel('accuracy')\n",
    "plt.legend()\n",
    "\n",
    "plt.figure(1)\n",
    "plt.plot(history.history['loss'], label='training_loss')\n",
    "plt.plot(history.history['val_loss'], label='val_loss')\n",
    "plt.title('Loss')\n",
    "plt.xlabel('epochs')\n",
    "plt.ylabel('loss')\n",
    "plt.legend()"
   ]
  },
  {
   "cell_type": "code",
   "execution_count": 32,
   "id": "1d400906",
   "metadata": {},
   "outputs": [
    {
     "data": {
      "text/plain": [
       "0.9558986539984164"
      ]
     },
     "execution_count": 32,
     "metadata": {},
     "output_type": "execute_result"
    }
   ],
   "source": [
    "# Testing the model with the test dataset\n",
    "\n",
    "from sklearn.metrics import accuracy_score\n",
    "import pandas as pd\n",
    "\n",
    "y_test = pd.read_csv('Test.csv')\n",
    "\n",
    "labels = y_test[\"ClassId\"].values\n",
    "images = y_test[\"Path\"].values\n",
    "\n",
    "data = []\n",
    "\n",
    "for im in images:\n",
    "    image = Image.open(im)\n",
    "    image = image.resize((30, 30))\n",
    "    data.append(np.array(image))\n",
    "    \n",
    "X_test = np.array(data)\n",
    "\n",
    "pred = model.predict(X_test)\n",
    "pred1 = np.argmax(pred,axis=1)\n",
    "# Accuracy of Test Data\n",
    "accuracy_score(labels, pred1)"
   ]
  },
  {
   "cell_type": "code",
   "execution_count": 33,
   "id": "bff626ed",
   "metadata": {},
   "outputs": [],
   "source": [
    "# Save the model\n",
    "model.save('traffic-sign-classifier.h5')"
   ]
  },
  {
   "cell_type": "code",
   "execution_count": null,
   "id": "f065e814",
   "metadata": {},
   "outputs": [],
   "source": []
  }
 ],
 "metadata": {
  "kernelspec": {
   "display_name": "Python 3",
   "language": "python",
   "name": "python3"
  },
  "language_info": {
   "codemirror_mode": {
    "name": "ipython",
    "version": 3
   },
   "file_extension": ".py",
   "mimetype": "text/x-python",
   "name": "python",
   "nbconvert_exporter": "python",
   "pygments_lexer": "ipython3",
   "version": "3.6.13"
  }
 },
 "nbformat": 4,
 "nbformat_minor": 5
}
